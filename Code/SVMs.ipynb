{
  "cells": [
    {
      "cell_type": "markdown",
      "metadata": {
        "colab_type": "text",
        "id": "lfx7mMhA2cFe"
      },
      "source": [
        "#  **Support Vector Machines (Classification)** "
      ]
    },
    {
      "cell_type": "markdown",
      "metadata": {
        "colab_type": "text",
        "id": "Tu6Arl9x2R6D"
      },
      "source": [
        "# Importing Libraries and data"
      ]
    },
    {
      "cell_type": "code",
      "execution_count": 1,
      "metadata": {
        "colab": {
          "base_uri": "https://localhost:8080/",
          "height": 74
        },
        "colab_type": "code",
        "id": "GeBTF7K7Uljz",
        "outputId": "c178017f-c15e-4115-cad1-7a53bf86162e"
      },
      "outputs": [],
      "source": [
        "#we first import the necessary libraries\n",
        "import numpy as np \n",
        "import pandas as pd \n",
        "import matplotlib.pyplot as plt   # This library is for plotting graphs \n",
        "import seaborn as sns             #This one is also for plotting raphs\n",
        "\n",
        "#Next we import the confusion matrix which tells us about our actual values and predicted values of testing examples \n",
        "from sklearn.metrics import confusion_matrix \n",
        "\n",
        "from sklearn.model_selection import train_test_split   \n",
        "from sklearn import datasets          \n",
        "from sklearn.svm import LinearSVC     #importing Linear Support Vector Classifier from sllearn library"
      ]
    },
    {
      "cell_type": "code",
      "execution_count": 2,
      "metadata": {
        "colab": {
          "base_uri": "https://localhost:8080/",
          "height": 1000
        },
        "colab_type": "code",
        "id": "hVV3aGqAU0Tr",
        "outputId": "a30d1732-5188-4427-c10b-1cb88164eb71"
      },
      "outputs": [
        {
          "name": "stdout",
          "output_type": "stream",
          "text": [
            "<class 'sklearn.utils.Bunch'>\n"
          ]
        },
        {
          "data": {
            "text/plain": [
              "{'data': array([[5.1, 3.5, 1.4, 0.2],\n",
              "        [4.9, 3. , 1.4, 0.2],\n",
              "        [4.7, 3.2, 1.3, 0.2],\n",
              "        [4.6, 3.1, 1.5, 0.2],\n",
              "        [5. , 3.6, 1.4, 0.2],\n",
              "        [5.4, 3.9, 1.7, 0.4],\n",
              "        [4.6, 3.4, 1.4, 0.3],\n",
              "        [5. , 3.4, 1.5, 0.2],\n",
              "        [4.4, 2.9, 1.4, 0.2],\n",
              "        [4.9, 3.1, 1.5, 0.1],\n",
              "        [5.4, 3.7, 1.5, 0.2],\n",
              "        [4.8, 3.4, 1.6, 0.2],\n",
              "        [4.8, 3. , 1.4, 0.1],\n",
              "        [4.3, 3. , 1.1, 0.1],\n",
              "        [5.8, 4. , 1.2, 0.2],\n",
              "        [5.7, 4.4, 1.5, 0.4],\n",
              "        [5.4, 3.9, 1.3, 0.4],\n",
              "        [5.1, 3.5, 1.4, 0.3],\n",
              "        [5.7, 3.8, 1.7, 0.3],\n",
              "        [5.1, 3.8, 1.5, 0.3],\n",
              "        [5.4, 3.4, 1.7, 0.2],\n",
              "        [5.1, 3.7, 1.5, 0.4],\n",
              "        [4.6, 3.6, 1. , 0.2],\n",
              "        [5.1, 3.3, 1.7, 0.5],\n",
              "        [4.8, 3.4, 1.9, 0.2],\n",
              "        [5. , 3. , 1.6, 0.2],\n",
              "        [5. , 3.4, 1.6, 0.4],\n",
              "        [5.2, 3.5, 1.5, 0.2],\n",
              "        [5.2, 3.4, 1.4, 0.2],\n",
              "        [4.7, 3.2, 1.6, 0.2],\n",
              "        [4.8, 3.1, 1.6, 0.2],\n",
              "        [5.4, 3.4, 1.5, 0.4],\n",
              "        [5.2, 4.1, 1.5, 0.1],\n",
              "        [5.5, 4.2, 1.4, 0.2],\n",
              "        [4.9, 3.1, 1.5, 0.2],\n",
              "        [5. , 3.2, 1.2, 0.2],\n",
              "        [5.5, 3.5, 1.3, 0.2],\n",
              "        [4.9, 3.6, 1.4, 0.1],\n",
              "        [4.4, 3. , 1.3, 0.2],\n",
              "        [5.1, 3.4, 1.5, 0.2],\n",
              "        [5. , 3.5, 1.3, 0.3],\n",
              "        [4.5, 2.3, 1.3, 0.3],\n",
              "        [4.4, 3.2, 1.3, 0.2],\n",
              "        [5. , 3.5, 1.6, 0.6],\n",
              "        [5.1, 3.8, 1.9, 0.4],\n",
              "        [4.8, 3. , 1.4, 0.3],\n",
              "        [5.1, 3.8, 1.6, 0.2],\n",
              "        [4.6, 3.2, 1.4, 0.2],\n",
              "        [5.3, 3.7, 1.5, 0.2],\n",
              "        [5. , 3.3, 1.4, 0.2],\n",
              "        [7. , 3.2, 4.7, 1.4],\n",
              "        [6.4, 3.2, 4.5, 1.5],\n",
              "        [6.9, 3.1, 4.9, 1.5],\n",
              "        [5.5, 2.3, 4. , 1.3],\n",
              "        [6.5, 2.8, 4.6, 1.5],\n",
              "        [5.7, 2.8, 4.5, 1.3],\n",
              "        [6.3, 3.3, 4.7, 1.6],\n",
              "        [4.9, 2.4, 3.3, 1. ],\n",
              "        [6.6, 2.9, 4.6, 1.3],\n",
              "        [5.2, 2.7, 3.9, 1.4],\n",
              "        [5. , 2. , 3.5, 1. ],\n",
              "        [5.9, 3. , 4.2, 1.5],\n",
              "        [6. , 2.2, 4. , 1. ],\n",
              "        [6.1, 2.9, 4.7, 1.4],\n",
              "        [5.6, 2.9, 3.6, 1.3],\n",
              "        [6.7, 3.1, 4.4, 1.4],\n",
              "        [5.6, 3. , 4.5, 1.5],\n",
              "        [5.8, 2.7, 4.1, 1. ],\n",
              "        [6.2, 2.2, 4.5, 1.5],\n",
              "        [5.6, 2.5, 3.9, 1.1],\n",
              "        [5.9, 3.2, 4.8, 1.8],\n",
              "        [6.1, 2.8, 4. , 1.3],\n",
              "        [6.3, 2.5, 4.9, 1.5],\n",
              "        [6.1, 2.8, 4.7, 1.2],\n",
              "        [6.4, 2.9, 4.3, 1.3],\n",
              "        [6.6, 3. , 4.4, 1.4],\n",
              "        [6.8, 2.8, 4.8, 1.4],\n",
              "        [6.7, 3. , 5. , 1.7],\n",
              "        [6. , 2.9, 4.5, 1.5],\n",
              "        [5.7, 2.6, 3.5, 1. ],\n",
              "        [5.5, 2.4, 3.8, 1.1],\n",
              "        [5.5, 2.4, 3.7, 1. ],\n",
              "        [5.8, 2.7, 3.9, 1.2],\n",
              "        [6. , 2.7, 5.1, 1.6],\n",
              "        [5.4, 3. , 4.5, 1.5],\n",
              "        [6. , 3.4, 4.5, 1.6],\n",
              "        [6.7, 3.1, 4.7, 1.5],\n",
              "        [6.3, 2.3, 4.4, 1.3],\n",
              "        [5.6, 3. , 4.1, 1.3],\n",
              "        [5.5, 2.5, 4. , 1.3],\n",
              "        [5.5, 2.6, 4.4, 1.2],\n",
              "        [6.1, 3. , 4.6, 1.4],\n",
              "        [5.8, 2.6, 4. , 1.2],\n",
              "        [5. , 2.3, 3.3, 1. ],\n",
              "        [5.6, 2.7, 4.2, 1.3],\n",
              "        [5.7, 3. , 4.2, 1.2],\n",
              "        [5.7, 2.9, 4.2, 1.3],\n",
              "        [6.2, 2.9, 4.3, 1.3],\n",
              "        [5.1, 2.5, 3. , 1.1],\n",
              "        [5.7, 2.8, 4.1, 1.3],\n",
              "        [6.3, 3.3, 6. , 2.5],\n",
              "        [5.8, 2.7, 5.1, 1.9],\n",
              "        [7.1, 3. , 5.9, 2.1],\n",
              "        [6.3, 2.9, 5.6, 1.8],\n",
              "        [6.5, 3. , 5.8, 2.2],\n",
              "        [7.6, 3. , 6.6, 2.1],\n",
              "        [4.9, 2.5, 4.5, 1.7],\n",
              "        [7.3, 2.9, 6.3, 1.8],\n",
              "        [6.7, 2.5, 5.8, 1.8],\n",
              "        [7.2, 3.6, 6.1, 2.5],\n",
              "        [6.5, 3.2, 5.1, 2. ],\n",
              "        [6.4, 2.7, 5.3, 1.9],\n",
              "        [6.8, 3. , 5.5, 2.1],\n",
              "        [5.7, 2.5, 5. , 2. ],\n",
              "        [5.8, 2.8, 5.1, 2.4],\n",
              "        [6.4, 3.2, 5.3, 2.3],\n",
              "        [6.5, 3. , 5.5, 1.8],\n",
              "        [7.7, 3.8, 6.7, 2.2],\n",
              "        [7.7, 2.6, 6.9, 2.3],\n",
              "        [6. , 2.2, 5. , 1.5],\n",
              "        [6.9, 3.2, 5.7, 2.3],\n",
              "        [5.6, 2.8, 4.9, 2. ],\n",
              "        [7.7, 2.8, 6.7, 2. ],\n",
              "        [6.3, 2.7, 4.9, 1.8],\n",
              "        [6.7, 3.3, 5.7, 2.1],\n",
              "        [7.2, 3.2, 6. , 1.8],\n",
              "        [6.2, 2.8, 4.8, 1.8],\n",
              "        [6.1, 3. , 4.9, 1.8],\n",
              "        [6.4, 2.8, 5.6, 2.1],\n",
              "        [7.2, 3. , 5.8, 1.6],\n",
              "        [7.4, 2.8, 6.1, 1.9],\n",
              "        [7.9, 3.8, 6.4, 2. ],\n",
              "        [6.4, 2.8, 5.6, 2.2],\n",
              "        [6.3, 2.8, 5.1, 1.5],\n",
              "        [6.1, 2.6, 5.6, 1.4],\n",
              "        [7.7, 3. , 6.1, 2.3],\n",
              "        [6.3, 3.4, 5.6, 2.4],\n",
              "        [6.4, 3.1, 5.5, 1.8],\n",
              "        [6. , 3. , 4.8, 1.8],\n",
              "        [6.9, 3.1, 5.4, 2.1],\n",
              "        [6.7, 3.1, 5.6, 2.4],\n",
              "        [6.9, 3.1, 5.1, 2.3],\n",
              "        [5.8, 2.7, 5.1, 1.9],\n",
              "        [6.8, 3.2, 5.9, 2.3],\n",
              "        [6.7, 3.3, 5.7, 2.5],\n",
              "        [6.7, 3. , 5.2, 2.3],\n",
              "        [6.3, 2.5, 5. , 1.9],\n",
              "        [6.5, 3. , 5.2, 2. ],\n",
              "        [6.2, 3.4, 5.4, 2.3],\n",
              "        [5.9, 3. , 5.1, 1.8]]),\n",
              " 'target': array([0, 0, 0, 0, 0, 0, 0, 0, 0, 0, 0, 0, 0, 0, 0, 0, 0, 0, 0, 0, 0, 0,\n",
              "        0, 0, 0, 0, 0, 0, 0, 0, 0, 0, 0, 0, 0, 0, 0, 0, 0, 0, 0, 0, 0, 0,\n",
              "        0, 0, 0, 0, 0, 0, 1, 1, 1, 1, 1, 1, 1, 1, 1, 1, 1, 1, 1, 1, 1, 1,\n",
              "        1, 1, 1, 1, 1, 1, 1, 1, 1, 1, 1, 1, 1, 1, 1, 1, 1, 1, 1, 1, 1, 1,\n",
              "        1, 1, 1, 1, 1, 1, 1, 1, 1, 1, 1, 1, 2, 2, 2, 2, 2, 2, 2, 2, 2, 2,\n",
              "        2, 2, 2, 2, 2, 2, 2, 2, 2, 2, 2, 2, 2, 2, 2, 2, 2, 2, 2, 2, 2, 2,\n",
              "        2, 2, 2, 2, 2, 2, 2, 2, 2, 2, 2, 2, 2, 2, 2, 2, 2, 2]),\n",
              " 'frame': None,\n",
              " 'target_names': array(['setosa', 'versicolor', 'virginica'], dtype='<U10'),\n",
              " 'DESCR': '.. _iris_dataset:\\n\\nIris plants dataset\\n--------------------\\n\\n**Data Set Characteristics:**\\n\\n    :Number of Instances: 150 (50 in each of three classes)\\n    :Number of Attributes: 4 numeric, predictive attributes and the class\\n    :Attribute Information:\\n        - sepal length in cm\\n        - sepal width in cm\\n        - petal length in cm\\n        - petal width in cm\\n        - class:\\n                - Iris-Setosa\\n                - Iris-Versicolour\\n                - Iris-Virginica\\n                \\n    :Summary Statistics:\\n\\n    ============== ==== ==== ======= ===== ====================\\n                    Min  Max   Mean    SD   Class Correlation\\n    ============== ==== ==== ======= ===== ====================\\n    sepal length:   4.3  7.9   5.84   0.83    0.7826\\n    sepal width:    2.0  4.4   3.05   0.43   -0.4194\\n    petal length:   1.0  6.9   3.76   1.76    0.9490  (high!)\\n    petal width:    0.1  2.5   1.20   0.76    0.9565  (high!)\\n    ============== ==== ==== ======= ===== ====================\\n\\n    :Missing Attribute Values: None\\n    :Class Distribution: 33.3% for each of 3 classes.\\n    :Creator: R.A. Fisher\\n    :Donor: Michael Marshall (MARSHALL%PLU@io.arc.nasa.gov)\\n    :Date: July, 1988\\n\\nThe famous Iris database, first used by Sir R.A. Fisher. The dataset is taken\\nfrom Fisher\\'s paper. Note that it\\'s the same as in R, but not as in the UCI\\nMachine Learning Repository, which has two wrong data points.\\n\\nThis is perhaps the best known database to be found in the\\npattern recognition literature.  Fisher\\'s paper is a classic in the field and\\nis referenced frequently to this day.  (See Duda & Hart, for example.)  The\\ndata set contains 3 classes of 50 instances each, where each class refers to a\\ntype of iris plant.  One class is linearly separable from the other 2; the\\nlatter are NOT linearly separable from each other.\\n\\n.. topic:: References\\n\\n   - Fisher, R.A. \"The use of multiple measurements in taxonomic problems\"\\n     Annual Eugenics, 7, Part II, 179-188 (1936); also in \"Contributions to\\n     Mathematical Statistics\" (John Wiley, NY, 1950).\\n   - Duda, R.O., & Hart, P.E. (1973) Pattern Classification and Scene Analysis.\\n     (Q327.D83) John Wiley & Sons.  ISBN 0-471-22361-1.  See page 218.\\n   - Dasarathy, B.V. (1980) \"Nosing Around the Neighborhood: A New System\\n     Structure and Classification Rule for Recognition in Partially Exposed\\n     Environments\".  IEEE Transactions on Pattern Analysis and Machine\\n     Intelligence, Vol. PAMI-2, No. 1, 67-71.\\n   - Gates, G.W. (1972) \"The Reduced Nearest Neighbor Rule\".  IEEE Transactions\\n     on Information Theory, May 1972, 431-433.\\n   - See also: 1988 MLC Proceedings, 54-64.  Cheeseman et al\"s AUTOCLASS II\\n     conceptual clustering system finds 3 classes in the data.\\n   - Many, many more ...',\n",
              " 'feature_names': ['sepal length (cm)',\n",
              "  'sepal width (cm)',\n",
              "  'petal length (cm)',\n",
              "  'petal width (cm)'],\n",
              " 'filename': 'iris.csv',\n",
              " 'data_module': 'sklearn.datasets.data'}"
            ]
          },
          "execution_count": 2,
          "metadata": {},
          "output_type": "execute_result"
        }
      ],
      "source": [
        "iris = datasets.load_iris()   #taking dataset from the library itself. Libraries have some pre-loaded datasets\n",
        "print(type(iris))    #Iris is a bunch datatype. It belongs to sklearn.utils class \n",
        "iris"
      ]
    },
    {
      "cell_type": "markdown",
      "metadata": {
        "colab_type": "text",
        "id": "DnAh4gDgYLGN"
      },
      "source": [
        "For simplicity, We demostrate the binary classification using SVMs. So We take only the two classes of the flowers, i.e. Setosa and Versicolor. Also we take into consideration only their petal length and petal width. "
      ]
    },
    {
      "cell_type": "markdown",
      "metadata": {
        "colab_type": "text",
        "id": "tpcuvCan2s8F"
      },
      "source": [
        "# Data Pre-processing and Plotting "
      ]
    },
    {
      "cell_type": "code",
      "execution_count": 3,
      "metadata": {
        "colab": {
          "base_uri": "https://localhost:8080/",
          "height": 90
        },
        "colab_type": "code",
        "id": "OK548y_6U5d6",
        "outputId": "17e31ab8-e024-46d9-baf6-2783fa0c091d"
      },
      "outputs": [
        {
          "data": {
            "text/plain": [
              "array([1.4, 1.4, 1.3, 1.5, 1.4, 1.7, 1.4, 1.5, 1.4, 1.5, 1.5, 1.6, 1.4,\n",
              "       1.1, 1.2, 1.5, 1.3, 1.4, 1.7, 1.5, 1.7, 1.5, 1. , 1.7, 1.9, 1.6,\n",
              "       1.6, 1.5, 1.4, 1.6, 1.6, 1.5, 1.5, 1.4, 1.5, 1.2, 1.3, 1.4, 1.3,\n",
              "       1.5, 1.3, 1.3, 1.3, 1.6, 1.9, 1.4, 1.6, 1.4, 1.5, 1.4])"
            ]
          },
          "execution_count": 3,
          "metadata": {},
          "output_type": "execute_result"
        }
      ],
      "source": [
        "#We are extracting data from iris bunch into arrays for easier implementation purposes. \n",
        "#In iris databunch, we take the data part and in data part we take the first 50 entries of the 3rd row (index i=2 means 3rd row as index starts from 0)\n",
        "petal_length_setosa = iris['data'][:50, (2)]\n",
        "petal_width_setosa = iris['data'][:50, (3)]\n",
        "petal_length_versicolor = iris['data'][50:100, (2)]\n",
        "petal_width_versicolor = iris['data'][50:100, (3)]\n",
        "\n",
        "petal_length_setosa"
      ]
    },
    {
      "cell_type": "code",
      "execution_count": 4,
      "metadata": {
        "colab": {
          "base_uri": "https://localhost:8080/",
          "height": 298
        },
        "colab_type": "code",
        "id": "EmFVNjvgW0Eh",
        "outputId": "212d56c7-113b-46e1-9a45-72b3f32be3bb"
      },
      "outputs": [
        {
          "data": {
            "text/plain": [
              "<matplotlib.collections.PathCollection at 0x1b0b41a12b0>"
            ]
          },
          "execution_count": 4,
          "metadata": {},
          "output_type": "execute_result"
        },
        {
          "data": {
            "image/png": "[encoded data removed]",
            "text/plain": [
              "<Figure size 432x288 with 1 Axes>"
            ]
          },
          "metadata": {
            "needs_background": "light"
          },
          "output_type": "display_data"
        }
      ],
      "source": [
        "#We now plot the graph \n",
        "\n",
        "plt.xlabel('petal_length')\n",
        "plt.ylabel('petal_width')\n",
        "plt.scatter(petal_length_setosa,petal_width_setosa, color='red') #plotting setosa flower\n",
        "plt.scatter(petal_length_versicolor,petal_width_versicolor, color='green')  #plotting versicolor flower"
      ]
    },
    {
      "cell_type": "code",
      "execution_count": 5,
      "metadata": {
        "colab": {
          "base_uri": "https://localhost:8080/",
          "height": 35
        },
        "colab_type": "code",
        "id": "xK2p_Av4aUN3",
        "outputId": "6c657e34-cf0a-4b0b-e142-664dac999b74"
      },
      "outputs": [
        {
          "name": "stdout",
          "output_type": "stream",
          "text": [
            "[1 1 1 1 0 0 1 0 1 1 0 1 1 1 1 0 1 1 0 1]\n"
          ]
        }
      ],
      "source": [
        "X = iris['data'][:100, 2:]  #We make an 2-D array of the petal length and petal width of the first 100 samples only. \n",
        "y = iris['target'][:100]    # We similarly make a 1-D array of the target class. \n",
        "# class 0 represents iris setosa and class 1 represents versicolor\n",
        "\n",
        "X_train, X_test, y_train, y_test = train_test_split(X, y, test_size=0.20)\n",
        "print(y_test)"
      ]
    },
    {
      "cell_type": "markdown",
      "metadata": {
        "colab_type": "text",
        "id": "i02IF5p421W8"
      },
      "source": [
        "# Training and Testing"
      ]
    },
    {
      "cell_type": "code",
      "execution_count": 6,
      "metadata": {
        "colab": {
          "base_uri": "https://localhost:8080/",
          "height": 35
        },
        "colab_type": "code",
        "id": "5ENn1PGNnO0_",
        "outputId": "e163de94-36bb-447f-d064-eafc07868d2e"
      },
      "outputs": [
        {
          "data": {
            "text/plain": [
              "array([1, 1, 1, 1, 0, 0, 1, 0, 1, 1, 0, 1, 1, 1, 1, 0, 1, 1, 0, 1])"
            ]
          },
          "execution_count": 6,
          "metadata": {},
          "output_type": "execute_result"
        }
      ],
      "source": [
        "model = LinearSVC()    # define the model as LinearSVC class\n",
        "model.fit(X_train,y_train)   #use model.fit() to train the model on the training dataset\n",
        "y_pred = model.predict(X_test)  # Using model.predict() predict the y values for test data and store it in y_pred\n",
        "y_pred           "
      ]
    },
    {
      "cell_type": "markdown",
      "metadata": {
        "colab_type": "text",
        "id": "YDXAdSJKMLqV"
      },
      "source": [
        "Confusion Matrix is an n*n matrix that gives us the actual and predicted values of each of the n classes. For binary classification it goes as follows: \n",
        "\n",
        "![image.png](data:image/png;base64,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)\n",
        "\n",
        "TP:True Positives     \n",
        "\n",
        "FN:False Negatives    \n",
        "\n",
        "TN:True Negatives    \n",
        "\n",
        "FT:False Positives"
      ]
    },
    {
      "cell_type": "code",
      "execution_count": 7,
      "metadata": {
        "colab": {
          "base_uri": "https://localhost:8080/",
          "height": 72
        },
        "colab_type": "code",
        "id": "mcO6HtK4Ki8j",
        "outputId": "f7a3fd93-ef14-4448-fc94-da6389dc8b16"
      },
      "outputs": [
        {
          "name": "stdout",
          "output_type": "stream",
          "text": [
            "[[ 6  0]\n",
            " [ 0 14]]\n",
            "[0.50686573 0.93160198]\n"
          ]
        }
      ],
      "source": [
        "print(confusion_matrix(y_test,y_pred)) \n",
        "\n",
        "print(model.coef_[0])\n",
        "#In the output as we can see the classifier predicted that 12 data points belonged to class 0 and 8 to class 1\n",
        "#Also as seen in confusion matrix, all the values are true. "
      ]
    },
    {
      "cell_type": "markdown",
      "metadata": {
        "colab_type": "text",
        "id": "fvAQPSw3zyqX"
      },
      "source": [
        "The decision boundary for SVMs is given by wx+b=0. Here x and w both  represent vectors. Note that x is the position vector 'x' of the data point and not the x-coordinate. \n",
        "So the Calculation of the x and y coordiante goes as follows - \n",
        "\n",
        "(w[0] i + w[1] j).(x i + y j) + b = 0\n",
        "\n",
        "w[0] * x + w[1] * y + b = 0 \n",
        "\n",
        "y = ( - w[0]*x - b )/w[1]\n",
        "\n",
        "Now b is the intercept_ attribute of LinearSVC"
      ]
    },
    {
      "cell_type": "code",
      "execution_count": 8,
      "metadata": {
        "colab": {
          "base_uri": "https://localhost:8080/",
          "height": 298
        },
        "colab_type": "code",
        "id": "d2iJgyT2LS7d",
        "outputId": "c08cda3a-b393-470c-bac8-0ec781f5fdb5"
      },
      "outputs": [
        {
          "data": {
            "text/plain": [
              "[<matplotlib.lines.Line2D at 0x1b0b42be190>]"
            ]
          },
          "execution_count": 8,
          "metadata": {},
          "output_type": "execute_result"
        },
        {
          "data": {
            "image/png": "[encoded data removed]",
            "text/plain": [
              "<Figure size 432x288 with 1 Axes>"
            ]
          },
          "metadata": {
            "needs_background": "light"
          },
          "output_type": "display_data"
        }
      ],
      "source": [
        "#We first plot the data points\n",
        "plt.xlabel('petal_length')\n",
        "plt.ylabel('petal_width')\n",
        "plt.scatter(petal_length_setosa,petal_width_setosa, color='red') #plotting setosa flower\n",
        "plt.scatter(petal_length_versicolor,petal_width_versicolor, color='green')  #plotting versicolor flower\n",
        "\n",
        "#Now we plot the decision boundary\n",
        "# w.x + b = 0 is the decision boundary \n",
        "w = model.coef_[0]  \n",
        "\n",
        "x1=1     #We tale arbitrary values of x to construct a line using the slope and intercept\n",
        "x2=4\n",
        "y1=-(x1*w[0]+model.intercept_[0])/w[1]     #We calculate the values of y-coordinate from x\n",
        "y2=-(x2*w[0]+model.intercept_[0])/w[1]     \n",
        "plt.plot([x1,x2],[y1,y2])           #We plot the line using two co-ordinates\n",
        " \n",
        "#Now we plot the support vectors of both the classes\n",
        "#The +1,-1 here stands for the distance between the decision boundary and support vector in either direction\n",
        "y1=-(x1*w[0]+model.intercept_[0]-1)/w[1] \n",
        "y2=-(x2*w[0]+model.intercept_[0]-1)/w[1]\n",
        "plt.plot([x1,x2],[y1,y2],'k--')                  #Here 'k--' stands for dotted line \n",
        "\n",
        "y1=-(x1*w[0]+model.intercept_[0]+1)/w[1]\n",
        "y2=-(x2*w[0]+model.intercept_[0]+1)/w[1]\n",
        "plt.plot([x1,x2],[y1,y2],'k--')\n"
      ]
    },
    {
      "cell_type": "markdown",
      "metadata": {
        "colab_type": "text",
        "id": "qqxQhDmm3JhJ"
      },
      "source": [
        "# Kernels\n",
        "Using kernels we try to separate non-linear data using a linear classifier. Kernelization treats as if there are dimensional changes in data and then the kernelized data is sent through a linear classifier to do the usual classification "
      ]
    },
    {
      "cell_type": "code",
      "execution_count": 9,
      "metadata": {
        "colab": {
          "base_uri": "https://localhost:8080/",
          "height": 1000
        },
        "colab_type": "code",
        "id": "oGiTS1K33I1Q",
        "outputId": "40157bd3-bc0c-42e8-e4af-fdff2e35f97b"
      },
      "outputs": [
        {
          "name": "stdout",
          "output_type": "stream",
          "text": [
            "(array([[-1.00000000e+00,  1.22464680e-16],\n",
            "       [ 9.91790014e-01,  1.27877162e-01],\n",
            "       [ 7.77479066e-01, -4.74927912e-01],\n",
            "       [-7.18349350e-01,  6.95682551e-01],\n",
            "       [ 1.28452759e+00, -4.58667853e-01],\n",
            "       [-7.61445958e-01,  6.48228395e-01],\n",
            "       [ 8.40400105e-01, -4.87181783e-01],\n",
            "       [-9.49055747e-01,  3.15108218e-01],\n",
            "       [-8.38088105e-01,  5.45534901e-01],\n",
            "       [ 2.05460725e-03,  4.35929780e-01],\n",
            "       [ 9.97945393e-01,  6.40702200e-02],\n",
            "       [ 1.99179001e+00,  3.72122838e-01],\n",
            "       [ 1.09602303e+00, -4.95379113e-01],\n",
            "       [-6.72300890e-01,  7.40277997e-01],\n",
            "       [-8.01413622e-01,  5.98110530e-01],\n",
            "       [-4.04783343e-01,  9.14412623e-01],\n",
            "       [ 5.37461710e-01, -3.86599306e-01],\n",
            "       [ 2.84527587e-01,  9.58667853e-01],\n",
            "       [ 0.00000000e+00,  5.00000000e-01],\n",
            "       [ 9.00968868e-01,  4.33883739e-01],\n",
            "       [-3.45365054e-01,  9.38468422e-01],\n",
            "       [ 1.76144596e+00, -1.48228395e-01],\n",
            "       [ 1.71834935e+00, -1.95682551e-01],\n",
            "       [ 7.61445958e-01,  6.48228395e-01],\n",
            "       [ 6.54634946e-01, -4.38468422e-01],\n",
            "       [ 1.00000000e+00,  0.00000000e+00],\n",
            "       [ 8.38088105e-01,  5.45534901e-01],\n",
            "       [-2.22520934e-01,  9.74927912e-01],\n",
            "       [ 1.98586378e-01, -9.81105305e-02],\n",
            "       [ 9.49055747e-01,  3.15108218e-01],\n",
            "       [ 1.28681296e-01,  9.28244800e-03],\n",
            "       [ 6.72300890e-01,  7.40277997e-01],\n",
            "       [ 2.22520934e-01,  9.74927912e-01],\n",
            "       [-9.91790014e-01,  1.27877162e-01],\n",
            "       [ 1.03205158e+00, -4.99486216e-01],\n",
            "       [ 4.27883340e-01, -3.20172255e-01],\n",
            "       [ 4.62538290e-01,  8.86599306e-01],\n",
            "       [ 1.90096887e+00,  6.61162609e-02],\n",
            "       [ 1.94905575e+00,  1.84891782e-01],\n",
            "       [ 3.45365054e-01,  9.38468422e-01],\n",
            "       [ 1.57211666e+00, -3.20172255e-01],\n",
            "       [-2.84527587e-01,  9.58667853e-01],\n",
            "       [ 1.84408430e-02,  3.08841371e-01],\n",
            "       [ 9.26916757e-01,  3.75267005e-01],\n",
            "       [ 2.38554042e-01, -1.48228395e-01],\n",
            "       [ 1.22252093e+00, -4.74927912e-01],\n",
            "       [ 1.59599895e-01,  9.87181783e-01],\n",
            "       [ 5.72116660e-01,  8.20172255e-01],\n",
            "       [ 1.40478334e+00, -4.14412623e-01],\n",
            "       [ 1.62348980e+00, -2.81831482e-01],\n",
            "       [-3.20515776e-02,  9.99486216e-01],\n",
            "       [ 1.34536505e+00, -4.38468422e-01],\n",
            "       [-5.72116660e-01,  8.20172255e-01],\n",
            "       [ 2.00000000e+00,  5.00000000e-01],\n",
            "       [ 5.18392568e-01,  8.55142763e-01],\n",
            "       [ 9.67948422e-01, -4.99486216e-01],\n",
            "       [ 1.98155916e+00,  3.08841371e-01],\n",
            "       [ 1.96729486e+00,  2.46345416e-01],\n",
            "       [ 1.15959990e+00, -4.87181783e-01],\n",
            "       [-9.97945393e-01,  6.40702200e-02],\n",
            "       [ 3.20515776e-02,  9.99486216e-01],\n",
            "       [ 5.09442530e-02,  1.84891782e-01],\n",
            "       [-9.67294863e-01,  2.53654584e-01],\n",
            "       [ 9.60230259e-02,  9.95379113e-01],\n",
            "       [ 8.20998618e-03,  3.72122838e-01],\n",
            "       [-4.62538290e-01,  8.86599306e-01],\n",
            "       [ 1.80141362e+00, -9.81105305e-02],\n",
            "       [ 3.27051370e-02,  2.46345416e-01],\n",
            "       [-9.81559157e-01,  1.91158629e-01],\n",
            "       [-9.00968868e-01,  4.33883739e-01],\n",
            "       [ 1.46253829e+00, -3.86599306e-01],\n",
            "       [ 9.03976974e-01, -4.95379113e-01],\n",
            "       [ 1.67230089e+00, -2.40277997e-01],\n",
            "       [ 9.90311321e-02,  6.61162609e-02],\n",
            "       [-6.23489802e-01,  7.81831482e-01],\n",
            "       [ 1.99794539e+00,  4.35929780e-01],\n",
            "       [-9.26916757e-01,  3.75267005e-01],\n",
            "       [ 4.04783343e-01,  9.14412623e-01],\n",
            "       [ 3.27699110e-01, -2.40277997e-01],\n",
            "       [ 1.92691676e+00,  1.24732995e-01],\n",
            "       [ 6.23489802e-01,  7.81831482e-01],\n",
            "       [ 1.61911895e-01, -4.55349012e-02],\n",
            "       [ 7.18349350e-01,  6.95682551e-01],\n",
            "       [-9.60230259e-02,  9.95379113e-01],\n",
            "       [ 8.01413622e-01,  5.98110530e-01],\n",
            "       [ 1.51839257e+00, -3.55142763e-01],\n",
            "       [ 2.81650650e-01, -1.95682551e-01],\n",
            "       [ 3.76510198e-01, -2.81831482e-01],\n",
            "       [ 1.83808810e+00, -4.55349012e-02],\n",
            "       [ 7.30832427e-02,  1.24732995e-01],\n",
            "       [ 9.81559157e-01,  1.91158629e-01],\n",
            "       [ 8.71318704e-01,  4.90717552e-01],\n",
            "       [-8.71318704e-01,  4.90717552e-01],\n",
            "       [ 7.15472413e-01, -4.58667853e-01],\n",
            "       [ 1.87131870e+00,  9.28244800e-03],\n",
            "       [ 9.67294863e-01,  2.53654584e-01],\n",
            "       [-1.59599895e-01,  9.87181783e-01],\n",
            "       [-5.18392568e-01,  8.55142763e-01],\n",
            "       [ 4.81607432e-01, -3.55142763e-01],\n",
            "       [ 5.95216657e-01, -4.14412623e-01]]), array([0, 0, 1, 0, 1, 0, 1, 0, 0, 1, 0, 1, 1, 0, 0, 0, 1, 0, 1, 0, 0, 1,\n",
            "       1, 0, 1, 0, 0, 0, 1, 0, 1, 0, 0, 0, 1, 1, 0, 1, 1, 0, 1, 0, 1, 0,\n",
            "       1, 1, 0, 0, 1, 1, 0, 1, 0, 1, 0, 1, 1, 1, 1, 0, 0, 1, 0, 0, 1, 0,\n",
            "       1, 1, 0, 0, 1, 1, 1, 1, 0, 1, 0, 0, 1, 1, 0, 1, 0, 0, 0, 1, 1, 1,\n",
            "       1, 1, 0, 0, 0, 1, 1, 0, 0, 0, 1, 1], dtype=int64))\n"
          ]
        }
      ],
      "source": [
        "#Here we take a non-linear dataset\n",
        "from sklearn.datasets import make_moons  #we import make_moons for using non-linear dataset\n",
        "moon = make_moons(n_samples=100)      #we take sample size = 100, 50 for each class and store it in a tuple\n",
        "print(moon)"
      ]
    },
    {
      "cell_type": "code",
      "execution_count": 10,
      "metadata": {
        "colab": {
          "base_uri": "https://localhost:8080/",
          "height": 283
        },
        "colab_type": "code",
        "id": "hKiarNEn3f4_",
        "outputId": "45b31d9e-14d1-44d5-9d83-88d5ebb0309f"
      },
      "outputs": [
        {
          "data": {
            "text/plain": [
              "<matplotlib.collections.PathCollection at 0x1b0b4338ac0>"
            ]
          },
          "execution_count": 10,
          "metadata": {},
          "output_type": "execute_result"
        },
        {
          "data": {
            "image/png": "[encoded data removed]",
            "text/plain": [
              "<Figure size 432x288 with 1 Axes>"
            ]
          },
          "metadata": {
            "needs_background": "light"
          },
          "output_type": "display_data"
        }
      ],
      "source": [
        "x1, x2, y1, y2 = list(),list(),list(),list()\n",
        "\n",
        "#We now put the data in different list for plotting and implementation purposes\n",
        "for i in range(100):\n",
        "  if moon[1][i]==0:\n",
        "    x1.append(moon[0][i][0])\n",
        "    y1.append(moon[0][i][1])\n",
        "  else:\n",
        "    x2.append(moon[0][i][0])\n",
        "    y2.append(moon[0][i][1])\n",
        "\n",
        "# We now plot the data \n",
        "plt.scatter(x1,y1,color='red')  \n",
        "plt.scatter(x2,y2,color='green')"
      ]
    },
    {
      "cell_type": "code",
      "execution_count": 11,
      "metadata": {
        "colab": {
          "base_uri": "https://localhost:8080/",
          "height": 109
        },
        "colab_type": "code",
        "id": "hI3n5RaK3kKS",
        "outputId": "b5823d5e-9ffa-4737-e7df-b2a2777014d2"
      },
      "outputs": [
        {
          "name": "stdout",
          "output_type": "stream",
          "text": [
            "[-1.0000000e+00  1.2246468e-16]\n",
            "0\n",
            "\n",
            "Model Prediction \n"
          ]
        },
        {
          "data": {
            "text/plain": [
              "array([0], dtype=int64)"
            ]
          },
          "execution_count": 11,
          "metadata": {},
          "output_type": "execute_result"
        }
      ],
      "source": [
        "#We use the SVC class in sklearn which has rbf as default kernel \n",
        "from sklearn.svm import SVC\n",
        "\n",
        "X = moon[0]   #We take the data from moon tuple and store it in arrays \n",
        "y = moon[1]\n",
        "\n",
        "model = SVC()   #We fit the data in our classifier\n",
        "model.fit(X,y)\n",
        "\n",
        "#We now predict the first datapoint of our moon's tuple which should be present in class 0 as denoted by the dataset\n",
        "print(moon[0][0])\n",
        "print(moon[1][0])\n",
        "\n",
        "print('\\nModel Prediction ')\n",
        "model.predict([moon[0][0]])"
      ]
    },
    {
      "cell_type": "markdown",
      "metadata": {
        "colab_type": "text",
        "id": "bhWXP46c4cTY"
      },
      "source": [
        "We now try to visualize the decision boundary predicted by our Support Vector Classifier which uses the Radial Basis function Kernel, popularly known as Gaussian Kernel. \n",
        "\n",
        "Gaussian kernel function is given by \n",
        "\n",
        "![kernel.png](data:image/png;base64,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)"
      ]
    },
    {
      "cell_type": "code",
      "execution_count": 12,
      "metadata": {
        "colab": {
          "base_uri": "https://localhost:8080/",
          "height": 283
        },
        "colab_type": "code",
        "id": "pZkhYNCK3n4V",
        "outputId": "8fbac2bd-1d98-4be1-9532-06c8a68c704f"
      },
      "outputs": [
        {
          "data": {
            "text/plain": [
              "<matplotlib.collections.PathCollection at 0x1b0b43cd9d0>"
            ]
          },
          "execution_count": 12,
          "metadata": {},
          "output_type": "execute_result"
        },
        {
          "data": {
            "image/png": "[encoded data removed]",
            "text/plain": [
              "<Figure size 432x288 with 1 Axes>"
            ]
          },
          "metadata": {
            "needs_background": "light"
          },
          "output_type": "display_data"
        }
      ],
      "source": [
        "#We make a grid of the x and y values to be plotted with each set of values of x and y in data point \n",
        "#The purpose of meshgrid is to create a grid by using the coordinate of each dim\n",
        "def make_meshgrid(x, y, h=.02):                                                \n",
        "    x_min, x_max = x.min() - 1, x.max() + 1            \n",
        "    y_min, y_max = y.min() - 1, y.max() + 1\n",
        "    xx, yy = np.meshgrid(np.arange(x_min, x_max, h), np.arange(y_min, y_max, h))\n",
        "    return xx, yy\n",
        "\n",
        "#Using the plot)contour function we plot the filled contours represtning the decision boundary \n",
        "def plot_contours(ax, clf, xx, yy, **params):\n",
        "    Z = model.predict(np.c_[xx.ravel(), yy.ravel()]) #ravel numpy function flattens the array to 1-D shape, c_ stands for concatenation of arrays\n",
        "    Z = Z.reshape(xx.shape)             #We reshape the shape of Z to match our requirements        \n",
        "    out = ax.contourf(xx, yy, Z, **params)      #contourf draws filled contours  \n",
        "    return out\n",
        "\n",
        "fig, ax = plt.subplots()    \n",
        "X0, X1 = X[:, 0], X[:, 1]\n",
        "xx, yy = make_meshgrid(X0, X1)\n",
        "plot_contours(ax, model, xx, yy, cmap=plt.cm.coolwarm, alpha=0.8)       \n",
        "\n",
        "#plotting graph of data points\n",
        "plt.scatter(x1,y1,color='red')\n",
        "plt.scatter(x2,y2,color='green')"
      ]
    }
  ],
  "metadata": {
    "colab": {
      "authorship_tag": "ABX9TyPpO34kfHjFpfT/AcLKo0oI",
      "include_colab_link": true,
      "name": "SVMs.ipynb",
      "provenance": []
    },
    "kernelspec": {
      "display_name": "Python 3.9.6 64-bit",
      "language": "python",
      "name": "python3"
    },
    "language_info": {
      "codemirror_mode": {
        "name": "ipython",
        "version": 3
      },
      "file_extension": ".py",
      "mimetype": "text/x-python",
      "name": "python",
      "nbconvert_exporter": "python",
      "pygments_lexer": "ipython3",
      "version": "3.9.6"
    },
    "vscode": {
      "interpreter": {
        "hash": "e35f1dc8bb9bdbba53b0999b4add851851c15f546acb4327367888e79b1e359a"
      }
    }
  },
  "nbformat": 4,
  "nbformat_minor": 0
}
